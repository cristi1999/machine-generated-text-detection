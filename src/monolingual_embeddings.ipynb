{
 "cells": [
  {
   "cell_type": "code",
   "execution_count": 1,
   "metadata": {},
   "outputs": [
    {
     "name": "stderr",
     "output_type": "stream",
     "text": [
      "/opt/anaconda3/envs/nlp-env/lib/python3.11/site-packages/tqdm/auto.py:21: TqdmWarning: IProgress not found. Please update jupyter and ipywidgets. See https://ipywidgets.readthedocs.io/en/stable/user_install.html\n",
      "  from .autonotebook import tqdm as notebook_tqdm\n"
     ]
    }
   ],
   "source": [
    "import warnings\n",
    "import helpers\n",
    "from transformers import AutoTokenizer, AutoConfig, AutoModel\n",
    "from sklearn.linear_model import LogisticRegression\n",
    "from xgboost import XGBClassifier\n",
    "import numpy as np\n",
    "warnings.filterwarnings(\"ignore\")"
   ]
  },
  {
   "cell_type": "code",
   "execution_count": 2,
   "metadata": {},
   "outputs": [],
   "source": [
    "device = helpers.get_device()\n",
    "model_ckpt = \"distilbert-base-uncased\"\n",
    "train_path = \"data/SemEval2024-Task8/SubtaskA/subtaskA_train_monolingual.jsonl\"\n",
    "val_path = \"data/SemEval2024-Task8/SubtaskA/subtaskA_dev_monolingual.jsonl\"\n",
    "tokenizer = AutoTokenizer.from_pretrained(model_ckpt)\n",
    "config = AutoConfig.from_pretrained(model_ckpt)\n",
    "model = AutoModel.from_pretrained(model_ckpt).to(device)"
   ]
  },
  {
   "cell_type": "code",
   "execution_count": 3,
   "metadata": {},
   "outputs": [
    {
     "name": "stderr",
     "output_type": "stream",
     "text": [
      "Token indices sequence length is longer than the specified maximum sequence length for this model (1376 > 512). Running this sequence through the model will result in indexing errors\n",
      "huggingface/tokenizers: The current process just got forked, after parallelism has already been used. Disabling parallelism to avoid deadlocks...\n",
      "To disable this warning, you can either:\n",
      "\t- Avoid using `tokenizers` before the fork if possible\n",
      "\t- Explicitly set the environment variable TOKENIZERS_PARALLELISM=(true | false)\n",
      "Map: 100%|██████████| 14/14 [00:00<00:00, 30.18 examples/s]\n",
      "Map: 100%|██████████| 2/2 [00:00<00:00,  9.98 examples/s]\n"
     ]
    }
   ],
   "source": [
    "train_df, val_df = helpers.get_pandas_dfs(train_path, val_path)\n",
    "train_df[\"text\"] = train_df[\"text\"].apply(lambda x: helpers.chunk_text(x, tokenizer))\n",
    "train_df = train_df.explode(\"text\").reset_index(drop=True)\n",
    "train_ds, val_ds = helpers.prepare_datasets(train_df, val_df)\n",
    "\n",
    "train_ds_embeddings = train_ds.map(lambda x: helpers.extract_hidden_states(x, tokenizer, model, device), batched=True, batch_size=128)\n",
    "test_ds_embeddings = val_ds.map(lambda x: helpers.extract_hidden_states(x, tokenizer, model, device), batched=True, batch_size=128)"
   ]
  },
  {
   "cell_type": "code",
   "execution_count": 4,
   "metadata": {},
   "outputs": [
    {
     "data": {
      "text/plain": [
       "((14, 2304), (2, 2304), (14,), (2,))"
      ]
     },
     "execution_count": 4,
     "metadata": {},
     "output_type": "execute_result"
    }
   ],
   "source": [
    "X_train = np.array(train_ds_embeddings[\"embeddings\"]) \n",
    "X_val = np.array(test_ds_embeddings[\"embeddings\"]) \n",
    "y_train = np.array(train_ds_embeddings[\"label\"]) \n",
    "y_val = np.array(test_ds_embeddings[\"label\"]) \n",
    "\n",
    "X_train.shape, X_val.shape, y_train.shape, y_val.shape"
   ]
  },
  {
   "cell_type": "code",
   "execution_count": 5,
   "metadata": {},
   "outputs": [
    {
     "name": "stdout",
     "output_type": "stream",
     "text": [
      "Logistic Regression metrics: {'accuracy': 1.0, 'precision': 0.0, 'recall': 0.0, 'f1_score': 0.0}\n",
      "XGB metrics: {'accuracy': 1.0, 'precision': 0.0, 'recall': 0.0, 'f1_score': 0.0}\n"
     ]
    }
   ],
   "source": [
    "lr_clf = LogisticRegression(max_iter=3000) \n",
    "lr_clf.fit(X_train, y_train) \n",
    "y_pred = lr_clf.predict(X_val) \n",
    "print(f\"Logistic Regression metrics: {helpers.calculate_metrics(y_val, y_pred)}\")\n",
    "\n",
    "xgb = XGBClassifier()\n",
    "xgb.fit(X_train, y_train) \n",
    "y_pred = xgb.predict(X_val) \n",
    "print(f\"XGB metrics: {helpers.calculate_metrics(y_val, y_pred)}\")"
   ]
  },
  {
   "cell_type": "code",
   "execution_count": null,
   "metadata": {},
   "outputs": [],
   "source": []
  }
 ],
 "metadata": {
  "kernelspec": {
   "display_name": "nlp-env",
   "language": "python",
   "name": "python3"
  },
  "language_info": {
   "codemirror_mode": {
    "name": "ipython",
    "version": 3
   },
   "file_extension": ".py",
   "mimetype": "text/x-python",
   "name": "python",
   "nbconvert_exporter": "python",
   "pygments_lexer": "ipython3",
   "version": "3.11.7"
  }
 },
 "nbformat": 4,
 "nbformat_minor": 2
}
