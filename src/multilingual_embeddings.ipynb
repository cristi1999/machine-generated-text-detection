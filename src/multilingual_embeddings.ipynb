{
 "cells": [
  {
   "cell_type": "code",
   "execution_count": null,
   "metadata": {
    "tags": []
   },
   "outputs": [],
   "source": [
    "import warnings\n",
    "import helpers\n",
    "from transformers import AutoTokenizer, AutoConfig, AutoModel\n",
    "from sklearn.linear_model import LogisticRegression\n",
    "from xgboost import XGBClassifier\n",
    "import numpy as np\n",
    "import pandas as pd\n",
    "import os\n",
    "warnings.filterwarnings(\"ignore\")"
   ]
  },
  {
   "cell_type": "code",
   "execution_count": null,
   "metadata": {
    "tags": []
   },
   "outputs": [],
   "source": [
    "device = helpers.get_device()\n",
    "model_ckpt = \"distilbert-base-multilingual-cased\"\n",
    "\n",
    "train_path = \"/data/SemEval2024-Task8/SubtaskA/subtaskA_train_multilingual.jsonl\"\n",
    "val_path = \"/data/SemEval2024-Task8/SubtaskA/subtaskA_dev_multilingual.jsonl\"\n",
    "\n",
    "addon_directory = \"./backtranslation_data_multi/\"\n",
    "addon_paths = []\n",
    "\n",
    "for filename in os.listdir(addon_directory):\n",
    "    if filename.endswith(\".jsonl\"):\n",
    "        addon_paths.append(os.path.join(addon_directory, filename))\n",
    "\n",
    "tokenizer = AutoTokenizer.from_pretrained(model_ckpt)\n",
    "config = AutoConfig.from_pretrained(model_ckpt)\n",
    "model = AutoModel.from_pretrained(model_ckpt).to(device)"
   ]
  },
  {
   "cell_type": "code",
   "execution_count": null,
   "metadata": {
    "tags": []
   },
   "outputs": [],
   "source": [
    "train_df, val_df = helpers.get_pandas_dfs(train_path, val_path)\n",
    "addon_dataframes = []\n",
    "\n",
    "for addon_path in addon_paths:\n",
    "    addon_df = helpers.get_pandas_atomic_dfs(addon_path)\n",
    "    addon_dataframes.append(addon_df)\n",
    "\n",
    "train_df = pd.concat([train_df] + addon_dataframes, axis=0, ignore_index=True)\n",
    "print(train_df.shape)\n",
    "\n",
    "train_df[\"text\"] = train_df[\"text\"].apply(lambda x: helpers.chunk_text(x, tokenizer))\n",
    "train_df = train_df.explode(\"text\").reset_index(drop=True)\n",
    "train_ds, val_ds = helpers.prepare_datasets(train_df, val_df)\n",
    "\n",
    "train_ds_embeddings = train_ds.map(lambda x: helpers.extract_hidden_states(x, tokenizer, model, device), batched=True, batch_size=128)\n",
    "test_ds_embeddings = val_ds.map(lambda x: helpers.extract_hidden_states(x, tokenizer, model, device), batched=True, batch_size=128)"
   ]
  },
  {
   "cell_type": "code",
   "execution_count": null,
   "metadata": {
    "tags": []
   },
   "outputs": [],
   "source": [
    "X_train = np.array(train_ds_embeddings[\"embeddings\"]) \n",
    "X_val = np.array(test_ds_embeddings[\"embeddings\"]) \n",
    "y_train = np.array(train_ds_embeddings[\"label\"]) \n",
    "y_val = np.array(test_ds_embeddings[\"label\"]) \n",
    "\n",
    "X_train.shape, X_val.shape, y_train.shape, y_val.shape"
   ]
  },
  {
   "cell_type": "code",
   "execution_count": null,
   "metadata": {
    "tags": []
   },
   "outputs": [],
   "source": [
    "lr_clf = LogisticRegression(max_iter=3000) \n",
    "lr_clf.fit(X_train, y_train) \n",
    "y_pred = lr_clf.predict(X_val) \n",
    "print(f\"Logistic Regression metrics: {helpers.calculate_metrics(y_val, y_pred)}\")\n",
    "\n",
    "xgb = XGBClassifier()\n",
    "xgb.fit(X_train, y_train) \n",
    "y_pred = xgb.predict(X_val) \n",
    "print(f\"XGB metrics: {helpers.calculate_metrics(y_val, y_pred)}\")"
   ]
  },
  {
   "cell_type": "code",
   "execution_count": null,
   "metadata": {},
   "outputs": [],
   "source": []
  }
 ],
 "metadata": {
  "kernelspec": {
   "display_name": "Python 3 (ipykernel)",
   "language": "python",
   "name": "python3"
  },
  "language_info": {
   "codemirror_mode": {
    "name": "ipython",
    "version": 3
   },
   "file_extension": ".py",
   "mimetype": "text/x-python",
   "name": "python",
   "nbconvert_exporter": "python",
   "pygments_lexer": "ipython3",
   "version": "3.10.9"
  }
 },
 "nbformat": 4,
 "nbformat_minor": 4
}
