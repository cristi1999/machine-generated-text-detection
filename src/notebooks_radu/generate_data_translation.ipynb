{
 "cells": [
  {
   "cell_type": "code",
   "execution_count": 1,
   "id": "358a9786-2807-4c57-ad8f-79ec7d46eece",
   "metadata": {
    "tags": []
   },
   "outputs": [],
   "source": [
    "import pandas as pd\n",
    "from google.cloud import translate_v2 as translate\n",
    "import warnings\n",
    "import json\n",
    "from tqdm import tqdm\n",
    "import numpy as np\n",
    "import os\n",
    "\n",
    "os.environ[\"GOOGLE_APPLICATION_CREDENTIALS\"] = \"valued-context-412119-a7e6fbab1b7f.json\"\n",
    "\n",
    "warnings.filterwarnings(\"ignore\")"
   ]
  },
  {
   "cell_type": "code",
   "execution_count": 2,
   "id": "032fbbc8-5ac0-45d5-9dca-65a7803580ab",
   "metadata": {
    "tags": []
   },
   "outputs": [],
   "source": [
    "mono_train_path = \"./SubtaskA/subtaskA_train_monolingual.jsonl\"\n",
    "mono_val_path = \"./SubtaskA/subtaskA_dev_monolingual.jsonl\"\n",
    "multi_train_path = \"./SubtaskA/subtaskA_train_multilingual.jsonl\"\n",
    "multi_val_path = \"./SubtaskA/subtaskA_dev_multilingual.jsonl\""
   ]
  },
  {
   "cell_type": "code",
   "execution_count": 3,
   "id": "43c8536c-960d-4eb2-a390-2dac94d5dfb3",
   "metadata": {
    "tags": []
   },
   "outputs": [],
   "source": [
    "def read_jsonl(path):\n",
    "    data = []\n",
    "    with open(path, \"r\") as f:\n",
    "        for line in f:\n",
    "            json_data = json.loads(line)\n",
    "            data.append(json_data)\n",
    "    return data\n",
    "\n",
    "\n",
    "def get_pandas_dfs(train_path, val_path, train_sample=None, val_sample=None):\n",
    "    train_data = read_jsonl(train_path)\n",
    "    val_data = read_jsonl(val_path)\n",
    "    \n",
    "    train_df = pd.DataFrame(train_data).loc[:, [\"text\", \"label\", \"source\"]]\n",
    "    train_df[\"label\"] = train_df[\"label\"].map(lambda x: \"LLM\" if x==1 else \"human\")\n",
    "    val_df = pd.DataFrame(val_data).loc[:, [\"text\", \"label\", \"source\"]]\n",
    "    val_df[\"label\"] = val_df[\"label\"].map(lambda x: \"LLM\" if x==1 else \"human\")\n",
    "    \n",
    "    if train_sample:\n",
    "        train_df = train_df.sample(n=train_sample, random_state=42).reset_index(drop=True)\n",
    "    if val_sample:\n",
    "        val_df = val_df.sample(n=val_sample, random_state=42).reset_index(drop=True)\n",
    "    \n",
    "    return train_df, val_df\n",
    "\n",
    "\n",
    "mono_train_df, mono_val_df = get_pandas_dfs(train_path=mono_train_path, val_path=mono_val_path)\n",
    "multi_train_df, multi_val_df = get_pandas_dfs(train_path=multi_train_path, val_path=multi_val_path)"
   ]
  },
  {
   "cell_type": "code",
   "execution_count": 4,
   "id": "2474db48",
   "metadata": {
    "collapsed": false,
    "jupyter": {
     "outputs_hidden": false
    },
    "tags": []
   },
   "outputs": [],
   "source": [
    "mono_train_df = mono_train_df\n",
    "multi_train_df = multi_train_df"
   ]
  },
  {
   "cell_type": "code",
   "execution_count": 5,
   "id": "eb1f67b3-ed72-4c4f-8ef4-89a174de6931",
   "metadata": {
    "tags": []
   },
   "outputs": [
    {
     "name": "stdout",
     "output_type": "stream",
     "text": [
      "                                                text label   source\n",
      "0  Forza Motorsport is a popular racing game that...   LLM  wikihow\n",
      "1  Buying Virtual Console games for your Nintendo...   LLM  wikihow\n",
      "2  Windows NT 4.0 was a popular operating system ...   LLM  wikihow\n",
      "3  How to Make Perfume\\n\\nPerfume is a great way ...   LLM  wikihow\n",
      "4  How to Convert Song Lyrics to a Song'\\n\\nConve...   LLM  wikihow\n"
     ]
    }
   ],
   "source": [
    "print(mono_train_df.head())"
   ]
  },
  {
   "cell_type": "code",
   "execution_count": 6,
   "id": "cd9f3b64-66b9-4002-8847-de764bd9ff64",
   "metadata": {
    "tags": []
   },
   "outputs": [
    {
     "name": "stdout",
     "output_type": "stream",
     "text": [
      "                                                text label   source\n",
      "0  Forza Motorsport is a popular racing game that...   LLM  wikihow\n",
      "1  Buying Virtual Console games for your Nintendo...   LLM  wikihow\n",
      "2  Windows NT 4.0 was a popular operating system ...   LLM  wikihow\n",
      "3  How to Make Perfume\\n\\nPerfume is a great way ...   LLM  wikihow\n",
      "4  How to Convert Song Lyrics to a Song'\\n\\nConve...   LLM  wikihow\n"
     ]
    }
   ],
   "source": [
    "print(multi_train_df.head())"
   ]
  },
  {
   "cell_type": "code",
   "execution_count": 7,
   "id": "0c1ebe2f-cbeb-4e75-ae50-819793c32ea4",
   "metadata": {
    "tags": []
   },
   "outputs": [
    {
     "name": "stdout",
     "output_type": "stream",
     "text": [
      "(119757, 3)\n"
     ]
    }
   ],
   "source": [
    "print(mono_train_df.shape)"
   ]
  },
  {
   "cell_type": "code",
   "execution_count": 8,
   "id": "320bea3f-3544-4883-991f-b46f04973b50",
   "metadata": {
    "tags": []
   },
   "outputs": [
    {
     "name": "stdout",
     "output_type": "stream",
     "text": [
      "(172417, 3)\n"
     ]
    }
   ],
   "source": [
    "print(multi_train_df.shape)"
   ]
  },
  {
   "cell_type": "markdown",
   "id": "058ab1dd-faca-4c07-a1fc-14a169ce2d5f",
   "metadata": {
    "tags": []
   },
   "source": [
    "# Data Augmentation"
   ]
  },
  {
   "cell_type": "code",
   "execution_count": 9,
   "id": "bff9de32-4347-4ead-9b8c-6054aac4dd53",
   "metadata": {
    "tags": []
   },
   "outputs": [],
   "source": [
    "translate_client = translate.Client()"
   ]
  },
  {
   "cell_type": "code",
   "execution_count": 10,
   "id": "50ff39c2-7219-4186-8ddb-f7ab77013cf5",
   "metadata": {
    "tags": []
   },
   "outputs": [],
   "source": [
    "def translate_text(text, source_language, target_language):\n",
    "    result = translate_client.translate(text, source_language=source_language, target_language=target_language)\n",
    "    return result['translatedText']"
   ]
  },
  {
   "cell_type": "code",
   "execution_count": 11,
   "id": "089b9e65",
   "metadata": {
    "collapsed": false,
    "jupyter": {
     "outputs_hidden": false
    }
   },
   "outputs": [],
   "source": [
    "def backtranslate_text(text, original_language, target_language):\n",
    "    translated_text = translate_text(text, source_language=original_language, target_language=target_language)\n",
    "    backtranslated_text = translate_text(translated_text, source_language=target_language, target_language=original_language)\n",
    "\n",
    "    return backtranslated_text"
   ]
  },
  {
   "cell_type": "code",
   "execution_count": 12,
   "id": "09d4464f",
   "metadata": {
    "collapsed": false,
    "jupyter": {
     "outputs_hidden": false
    }
   },
   "outputs": [],
   "source": [
    "def filter_dataframe(df, max_chars, valid_sources, valid_labels):\n",
    "    return df[(df['text'].str.len() <= max_chars) &\n",
    "              (df['source'].isin(valid_sources)) &\n",
    "              (df['label'].isin(valid_labels))\n",
    "    ]"
   ]
  },
  {
   "cell_type": "code",
   "execution_count": 13,
   "id": "7c168668",
   "metadata": {
    "collapsed": false,
    "jupyter": {
     "outputs_hidden": false
    }
   },
   "outputs": [],
   "source": [
    "def translate_and_save(df, target_language, output_file):\n",
    "    translated_texts = []\n",
    "\n",
    "    for index, row in tqdm(df.iterrows(), total=df.shape[0], desc=f\"Translating to {target_language}\"):\n",
    "        translated_text = translate_text(row['text'], 'en', target_language)\n",
    "\n",
    "        translated_texts.append({\n",
    "            'text': translated_text,\n",
    "            'label': row['label'],\n",
    "            'source': row['source']\n",
    "        })\n",
    "\n",
    "    translated_df = pd.DataFrame(translated_texts)\n",
    "    translated_df.to_json(output_file, orient='records', lines=True)"
   ]
  },
  {
   "cell_type": "code",
   "execution_count": 14,
   "id": "a0fdce1d",
   "metadata": {
    "collapsed": false,
    "jupyter": {
     "outputs_hidden": false
    }
   },
   "outputs": [],
   "source": [
    "def backtranslate_and_save(df, source_language, target_language, output_file):\n",
    "    backtranslated_texts = []\n",
    "\n",
    "    for index, row in tqdm(df.iterrows(), total=df.shape[0], desc=f\"Backtranslating from {source_language} to {target_language}\"):\n",
    "        backtranslated_text = backtranslate_text(row['text'], original_language=source_language, target_language=target_language)\n",
    "\n",
    "        backtranslated_texts.append({\n",
    "            'text': backtranslated_text,\n",
    "            'label': row['label'],\n",
    "            'source': row['source']\n",
    "        })\n",
    "\n",
    "    backtranslated_df = pd.DataFrame(backtranslated_texts)\n",
    "    backtranslated_df.to_json(output_file, orient='records', lines=True)"
   ]
  },
  {
   "cell_type": "markdown",
   "id": "d3bc93fa",
   "metadata": {},
   "source": [
    "# 1. Monolingual task"
   ]
  },
  {
   "cell_type": "code",
   "execution_count": 15,
   "id": "167571de",
   "metadata": {
    "collapsed": false,
    "jupyter": {
     "outputs_hidden": false
    }
   },
   "outputs": [
    {
     "name": "stdout",
     "output_type": "stream",
     "text": [
      "(14771, 3)\n",
      "                                                   text label   source\n",
      "1639  1. Visit The TrafficWave website and sign up f...   LLM  wikihow\n",
      "1666  Unfortunately, as an AI language model, I cann...   LLM  wikihow\n",
      "1813  In this article, we learned about deriving a m...   LLM  wikihow\n",
      "2004  \\n\\nHow to Convert Song Lyrics to a Song\\nTher...   LLM  wikihow\n",
      "2005  \\n\\nA broken window in a wooden frame can be f...   LLM  wikihow\n",
      "(14371, 3)\n",
      "                                                    text  label   source\n",
      "56419   If you just can't, reduce meat from your meal...  human  wikihow\n",
      "56434   You should only harvest the honey if the bees...  human  wikihow\n",
      "56455   It is also known as the horse's \"blind side\"....  human  wikihow\n",
      "56499   This might give him the initiative to talk to...  human  wikihow\n",
      "56512   Although a smile may not be much, just making...  human  wikihow\n"
     ]
    }
   ],
   "source": [
    "m_chars = 1250\n",
    "v_sources = ['wikihow', 'wikipedia', 'reddit', 'arxiv', 'peerread']\n",
    "\n",
    "filtered_mono_train_df_llm = filter_dataframe(mono_train_df, m_chars, v_sources, ['LLM'])\n",
    "filtered_mono_train_df_hum = filter_dataframe(mono_train_df, m_chars, v_sources, ['human'])\n",
    "\n",
    "print(filtered_mono_train_df_llm.shape)\n",
    "print(filtered_mono_train_df_llm.head())\n",
    "\n",
    "print(filtered_mono_train_df_hum.shape)\n",
    "print(filtered_mono_train_df_hum.head())"
   ]
  },
  {
   "cell_type": "code",
   "execution_count": 16,
   "id": "3d56456b",
   "metadata": {
    "collapsed": false,
    "jupyter": {
     "outputs_hidden": false
    }
   },
   "outputs": [],
   "source": [
    "set1_llm = filtered_mono_train_df_llm.sample(n=8000)\n",
    "set1_hum = filtered_mono_train_df_hum.sample(n=8000)\n",
    "set2_llm = filtered_mono_train_df_llm.sample(n=8000)\n",
    "set2_hum = filtered_mono_train_df_hum.sample(n=8000)\n",
    "set3_llm = filtered_mono_train_df_llm.sample(n=8000)\n",
    "set3_hum = filtered_mono_train_df_hum.sample(n=8000)"
   ]
  },
  {
   "cell_type": "code",
   "execution_count": 17,
   "id": "844bf0d8",
   "metadata": {
    "collapsed": false,
    "jupyter": {
     "outputs_hidden": false
    }
   },
   "outputs": [],
   "source": [
    "set1 = pd.concat([set1_llm, set1_hum])\n",
    "set2 = pd.concat([set2_llm, set2_hum])\n",
    "set3 = pd.concat([set3_llm, set3_hum])"
   ]
  },
  {
   "cell_type": "code",
   "execution_count": 18,
   "id": "3610ab70",
   "metadata": {
    "collapsed": false,
    "jupyter": {
     "outputs_hidden": false
    }
   },
   "outputs": [
    {
     "name": "stdout",
     "output_type": "stream",
     "text": [
      "(16000, 3)\n",
      "(16000, 3)\n",
      "(16000, 3)\n"
     ]
    }
   ],
   "source": [
    "print(set1.shape)\n",
    "print(set2.shape)\n",
    "print(set3.shape)"
   ]
  },
  {
   "cell_type": "code",
   "execution_count": 19,
   "id": "374358b3",
   "metadata": {
    "collapsed": false,
    "jupyter": {
     "outputs_hidden": false
    }
   },
   "outputs": [
    {
     "name": "stderr",
     "output_type": "stream",
     "text": [
      "Backtranslating from en to fr: 100%|██████████| 16000/16000 [1:25:44<00:00,  3.11it/s]\n"
     ]
    }
   ],
   "source": [
    "backtranslate_and_save(set1, source_language='en', target_language='fr', output_file='mono_addon1.jsonl')"
   ]
  },
  {
   "cell_type": "code",
   "execution_count": 20,
   "id": "2c2c3b5d",
   "metadata": {
    "collapsed": false,
    "jupyter": {
     "outputs_hidden": false
    }
   },
   "outputs": [
    {
     "name": "stderr",
     "output_type": "stream",
     "text": [
      "Backtranslating from en to ru: 100%|██████████| 16000/16000 [1:27:42<00:00,  3.04it/s]\n"
     ]
    }
   ],
   "source": [
    "backtranslate_and_save(set2, source_language='en', target_language='ru', output_file='mono_addon2.jsonl')"
   ]
  },
  {
   "cell_type": "code",
   "execution_count": 19,
   "id": "68404583",
   "metadata": {
    "collapsed": false,
    "jupyter": {
     "outputs_hidden": false
    }
   },
   "outputs": [
    {
     "name": "stderr",
     "output_type": "stream",
     "text": [
      "Backtranslating from en to ja: 100%|██████████| 16000/16000 [1:32:21<00:00,  2.89it/s]  \n"
     ]
    }
   ],
   "source": [
    "backtranslate_and_save(set3, source_language='en', target_language='ja', output_file='mono_addon3.jsonl')"
   ]
  },
  {
   "cell_type": "markdown",
   "id": "22eed046",
   "metadata": {},
   "source": [
    "# 2. Multilingual task"
   ]
  },
  {
   "cell_type": "code",
   "execution_count": 15,
   "id": "d41ab942",
   "metadata": {
    "collapsed": false,
    "jupyter": {
     "outputs_hidden": false
    }
   },
   "outputs": [
    {
     "name": "stdout",
     "output_type": "stream",
     "text": [
      "(35942, 3)\n",
      "                                                   text label   source\n",
      "89    How to Own a Rifle: A Guide to Being a Respons...   LLM  wikihow\n",
      "320   Creating a Cloudy Moon or Planet with Excel ca...   LLM  wikihow\n",
      "987   Constructing multiple squares of odd order can...   LLM  wikihow\n",
      "1154  Are you a fan of racing games? Do you want to ...   LLM  wikihow\n",
      "1245  Creating a template for Photobie Design Studio...   LLM  wikihow\n",
      "(24744, 3)\n",
      "                                                   text  label   source\n",
      "2001   They are about $20 a card. Or, if you want to...  human  wikihow\n",
      "2007  ;\\n, Place a level on the surface of the groun...  human  wikihow\n",
      "2017   Do not attempt unless you have a complete und...  human  wikihow\n",
      "2026  ;\\n, List all possible combinations as well.\\n...  human  wikihow\n",
      "2037  ;\\n, Be sure that you remove all damaged drywa...  human  wikihow\n"
     ]
    }
   ],
   "source": [
    "m_chars = 1500\n",
    "v_sources = ['wikihow', 'wikipedia', 'reddit', 'arxiv', 'peerread']\n",
    "\n",
    "filtered_multi_train_df_llm = filter_dataframe(multi_train_df, m_chars, v_sources, ['LLM'])\n",
    "filtered_multi_train_df_hum = filter_dataframe(multi_train_df, m_chars, v_sources, ['human'])\n",
    "\n",
    "print(filtered_multi_train_df_llm.shape)\n",
    "print(filtered_multi_train_df_llm.head())\n",
    "\n",
    "print(filtered_multi_train_df_hum.shape)\n",
    "print(filtered_multi_train_df_hum.head())"
   ]
  },
  {
   "cell_type": "code",
   "execution_count": 16,
   "id": "035262ce",
   "metadata": {
    "collapsed": false,
    "jupyter": {
     "outputs_hidden": false
    }
   },
   "outputs": [],
   "source": [
    "set1_llm = filtered_multi_train_df_llm.sample(n=8000)\n",
    "set1_hum = filtered_multi_train_df_hum.sample(n=8000)\n",
    "set2_llm = filtered_multi_train_df_llm.sample(n=8000)\n",
    "set2_hum = filtered_multi_train_df_hum.sample(n=8000)\n",
    "set3_llm = filtered_multi_train_df_llm.sample(n=8000)\n",
    "set3_hum = filtered_multi_train_df_hum.sample(n=8000)"
   ]
  },
  {
   "cell_type": "code",
   "execution_count": 17,
   "id": "ecfe6891",
   "metadata": {
    "collapsed": false,
    "jupyter": {
     "outputs_hidden": false
    }
   },
   "outputs": [],
   "source": [
    "set1 = pd.concat([set1_llm, set1_hum])\n",
    "set2 = pd.concat([set2_llm, set2_hum])\n",
    "set3 = pd.concat([set3_llm, set3_hum])"
   ]
  },
  {
   "cell_type": "code",
   "execution_count": 18,
   "id": "9a9c60d9",
   "metadata": {
    "collapsed": false,
    "jupyter": {
     "outputs_hidden": false
    }
   },
   "outputs": [
    {
     "name": "stdout",
     "output_type": "stream",
     "text": [
      "(16000, 3)\n",
      "                                                     text label     source\n",
      "13938   The 2017 Jackson State Tigers football team re...   LLM  wikipedia\n",
      "37242   We present the relationship between molecular ...   LLM      arxiv\n",
      "170677   The Romans did have a concept of technologica...   LLM     reddit\n",
      "111403  Inspect your sink., Obtain a replacement fauce...   LLM    wikihow\n",
      "21366   Living conditions in the country side in the 1...   LLM     reddit\n"
     ]
    }
   ],
   "source": [
    "print(set1.shape)\n",
    "print(set1.head())"
   ]
  },
  {
   "cell_type": "code",
   "execution_count": 19,
   "id": "cf2794b2",
   "metadata": {
    "collapsed": false,
    "jupyter": {
     "outputs_hidden": false
    }
   },
   "outputs": [
    {
     "name": "stdout",
     "output_type": "stream",
     "text": [
      "(16000, 3)\n",
      "                                                     text label    source\n",
      "8159    Organizing events can seem like a daunting tas...   LLM   wikihow\n",
      "101590  \\n\\nThis paper presents a novel neural network...   LLM  peerread\n",
      "89334   In this article, we present a novel approach f...   LLM     arxiv\n",
      "23498   It was too expensive to build on large lots wi...   LLM    reddit\n",
      "84999   The United States has had only one written con...   LLM    reddit\n"
     ]
    }
   ],
   "source": [
    "print(set2.shape)\n",
    "print(set2.head())"
   ]
  },
  {
   "cell_type": "code",
   "execution_count": 20,
   "id": "f52425ef",
   "metadata": {
    "collapsed": false,
    "jupyter": {
     "outputs_hidden": false
    }
   },
   "outputs": [
    {
     "name": "stdout",
     "output_type": "stream",
     "text": [
      "(16000, 3)\n",
      "                                                     text label     source\n",
      "31767   Chiral symmetry and the string description of ...   LLM      arxiv\n",
      "72723   The Fitzgerald-Lorentz contraction is usually ...   LLM      arxiv\n",
      "170557  \\n\\nIn this day and age, with all this negativ...   LLM     reddit\n",
      "14335   Saint Francis of Assisi Catholic School is loc...   LLM  wikipedia\n",
      "88614   We report the discovery by INTEGRAL/IBIS and S...   LLM      arxiv\n"
     ]
    }
   ],
   "source": [
    "print(set3.shape)\n",
    "print(set3.head())"
   ]
  },
  {
   "cell_type": "code",
   "execution_count": 21,
   "id": "ff01fbf2",
   "metadata": {
    "collapsed": false,
    "jupyter": {
     "outputs_hidden": false
    }
   },
   "outputs": [
    {
     "name": "stderr",
     "output_type": "stream",
     "text": [
      "Translating to ru: 100%|██████████| 16000/16000 [48:40<00:00,  5.48it/s] \n"
     ]
    }
   ],
   "source": [
    "translate_and_save(set1, 'ru', 'russian_addon.jsonl')"
   ]
  },
  {
   "cell_type": "code",
   "execution_count": 21,
   "id": "e5e3a924",
   "metadata": {
    "collapsed": false,
    "jupyter": {
     "outputs_hidden": false
    }
   },
   "outputs": [
    {
     "name": "stderr",
     "output_type": "stream",
     "text": [
      "Translating to ar: 100%|██████████| 16000/16000 [44:55<00:00,  5.93it/s] \n"
     ]
    }
   ],
   "source": [
    "translate_and_save(set2, 'ar', 'arabic_addon.jsonl')"
   ]
  },
  {
   "cell_type": "code",
   "execution_count": 22,
   "id": "45ebaddd",
   "metadata": {
    "collapsed": false,
    "jupyter": {
     "outputs_hidden": false
    }
   },
   "outputs": [
    {
     "name": "stderr",
     "output_type": "stream",
     "text": [
      "Translating to de: 100%|██████████| 16000/16000 [44:52<00:00,  5.94it/s] \n"
     ]
    }
   ],
   "source": [
    "translate_and_save(set3, 'de', 'german_addon.jsonl')"
   ]
  },
  {
   "cell_type": "code",
   "execution_count": 17,
   "id": "a14403c3",
   "metadata": {
    "collapsed": false,
    "jupyter": {
     "outputs_hidden": false
    }
   },
   "outputs": [
    {
     "name": "stdout",
     "output_type": "stream",
     "text": [
      "(4115, 3)\n",
      "                                                    text label     source\n",
      "43029  Президентът на Република България Румен Радев ...   LLM  bulgarian\n",
      "43030  Тази седмица Тереза Мей ще даде начало на проц...   LLM  bulgarian\n",
      "43033  1 април - ден на хумора и шегата | Радомир\\n\\n...   LLM  bulgarian\n",
      "43035  \"Нефтохимик\" поведе с 2:0 победи на ЦСКА в Суп...   LLM  bulgarian\n",
      "43036  Общината строи 5-етажен блок за социално слаби...   LLM  bulgarian\n",
      "(4846, 3)\n",
      "                                                    text  label     source\n",
      "45029  \"Първо искам да благодаря още веднъж на всички...  human  bulgarian\n",
      "45030  Снимки към новината Премиерът на Великобритани...  human  bulgarian\n",
      "45031  Свързани новиниБСП промени дневния ред на държ...  human  bulgarian\n",
      "45032  Не само здрава уборка, но и буквално къпане на...  human  bulgarian\n",
      "45033  Сн. Агро Пловдив Денят на шегата се празнува в...  human  bulgarian\n"
     ]
    }
   ],
   "source": [
    "m_chars = 2500\n",
    "\n",
    "filtered_multi_train_df_llm = filter_dataframe(multi_train_df, m_chars, [\"bulgarian\"], ['LLM'])\n",
    "filtered_multi_train_df_hum = filter_dataframe(multi_train_df, m_chars, [\"bulgarian\"], ['human'])\n",
    "\n",
    "print(filtered_multi_train_df_llm.shape)\n",
    "print(filtered_multi_train_df_llm.head())\n",
    "\n",
    "print(filtered_multi_train_df_hum.shape)\n",
    "print(filtered_multi_train_df_hum.head())"
   ]
  },
  {
   "cell_type": "code",
   "execution_count": 20,
   "id": "80fd24d2",
   "metadata": {
    "collapsed": false,
    "jupyter": {
     "outputs_hidden": false
    }
   },
   "outputs": [],
   "source": [
    "bulg_llm = filtered_multi_train_df_llm.sample(n=4000)\n",
    "bulg_hum = filtered_multi_train_df_hum.sample(n=4000)"
   ]
  },
  {
   "cell_type": "code",
   "execution_count": 21,
   "id": "b58ac207",
   "metadata": {
    "collapsed": false,
    "jupyter": {
     "outputs_hidden": false
    }
   },
   "outputs": [],
   "source": [
    "bulg_set = pd.concat([bulg_llm, bulg_hum])"
   ]
  },
  {
   "cell_type": "code",
   "execution_count": 24,
   "id": "c2ee88f9",
   "metadata": {
    "collapsed": false,
    "jupyter": {
     "outputs_hidden": false
    }
   },
   "outputs": [
    {
     "name": "stdout",
     "output_type": "stream",
     "text": [
      "(20, 3)\n",
      "                                                    text label     source\n",
      "43433  Фирмите на „Стройко“ – Труд са известни с прод...   LLM  bulgarian\n",
      "48662  В Дания, нещо невероятно и вече общеизвестно, ...   LLM  bulgarian\n",
      "91354  Асеновград напред стъпи и напусна Фонда за лет...   LLM  bulgarian\n",
      "75218  Мрачният мир на Рачко беше разминат веднага, к...   LLM  bulgarian\n",
      "44598  Днес е ден за бой… с възглавници | Новините от...   LLM  bulgarian\n"
     ]
    }
   ],
   "source": [
    "print(bulg_set.shape)\n",
    "print(bulg_set.head())"
   ]
  },
  {
   "cell_type": "code",
   "execution_count": 25,
   "id": "0d58e4e0",
   "metadata": {
    "collapsed": false,
    "jupyter": {
     "outputs_hidden": false
    }
   },
   "outputs": [
    {
     "name": "stderr",
     "output_type": "stream",
     "text": [
      "Backtranslating from bg to en: 100%|██████████| 20/20 [00:07<00:00,  2.74it/s]\n"
     ]
    }
   ],
   "source": [
    "backtranslate_and_save(bulg_set, source_language='bg', target_language='en', output_file='bulgarian_addon.jsonl')"
   ]
  },
  {
   "cell_type": "code",
   "execution_count": 30,
   "id": "66afd908",
   "metadata": {
    "collapsed": false,
    "jupyter": {
     "outputs_hidden": false
    }
   },
   "outputs": [
    {
     "name": "stdout",
     "output_type": "stream",
     "text": [
      "(5914, 3)\n",
      "                                                    text label   source\n",
      "56931  如果您的网络连接中断，您的角色可能会保留在游戏中的一段时间，具体时间取决于游戏服务器和您的网...   LLM  chinese\n",
      "56932  很抱歉，我无法完全理解您的问题，因为它似乎涉及到特定的平台或市场。但是如果我理解正确的话，您...   LLM  chinese\n",
      "56933  很抱歉，作为一个语言模型的人工智能助手，我无法确认您是否真正中奖及如何领取奖品。请注意保护您...   LLM  chinese\n",
      "56934  血尿酸与肾结石之间的关系比较复杂。一般来说，高尿酸血症是导致尿酸肾结石的主要原因之一，但并非...   LLM  chinese\n",
      "56935  关于哪种弓比较好，这要根据您的需求和个人喜好来决定。不同的弓有不同的特点，比如长弓射程远但需...   LLM  chinese\n",
      "(5573, 3)\n",
      "                                                    text  label   source\n",
      "58901  我也是传3玩家，你的问题我经常遇到，其实这种问题是很难解决的，问题是GT的总服务器设定为无反...  human  chinese\n",
      "58902  尊敬的顾客： \\r\\n   您好！5173客户服务026很高兴为您服务！ \\r\\n\\r\\n ...  human  chinese\n",
      "58903  奖品领取是假的,哪有这么大蛤娜随街跳,天上掉陷饼呀!\\r\\n(一切以官方网站的信息为好)\\r...  human  chinese\n",
      "58905  根据HF80级弓经验介绍，敏体弓后期比较有前途（也学技能的哦，学了战斗技能后再穿敏体装备）\\...  human  chinese\n",
      "58906  1.NE是没有定空的技能,HM有飞锤,空锁,O有撒网,净化,UD有蛛网,冰冻,就数NE没有,...  human  chinese\n"
     ]
    }
   ],
   "source": [
    "m_chars = 1000\n",
    "\n",
    "filtered_multi_train_df_llm = filter_dataframe(multi_train_df, m_chars, [\"chinese\"], ['LLM'])\n",
    "filtered_multi_train_df_hum = filter_dataframe(multi_train_df, m_chars, [\"chinese\"], ['human'])\n",
    "\n",
    "print(filtered_multi_train_df_llm.shape)\n",
    "print(filtered_multi_train_df_llm.head())\n",
    "\n",
    "print(filtered_multi_train_df_hum.shape)\n",
    "print(filtered_multi_train_df_hum.head())"
   ]
  },
  {
   "cell_type": "code",
   "execution_count": 31,
   "id": "baa66e5f",
   "metadata": {
    "collapsed": false,
    "jupyter": {
     "outputs_hidden": false
    }
   },
   "outputs": [],
   "source": [
    "ch_llm = filtered_multi_train_df_llm.sample(n=4000)\n",
    "ch_hum = filtered_multi_train_df_hum.sample(n=4000)"
   ]
  },
  {
   "cell_type": "code",
   "execution_count": 32,
   "id": "c17e6ab8",
   "metadata": {
    "collapsed": false,
    "jupyter": {
     "outputs_hidden": false
    }
   },
   "outputs": [],
   "source": [
    "ch_set = pd.concat([ch_llm, ch_hum])"
   ]
  },
  {
   "cell_type": "code",
   "execution_count": 35,
   "id": "5f9c7692",
   "metadata": {
    "collapsed": false,
    "jupyter": {
     "outputs_hidden": false
    }
   },
   "outputs": [
    {
     "name": "stdout",
     "output_type": "stream",
     "text": [
      "(20, 3)\n",
      "                                                    text label   source\n",
      "56931  如果您的网络连接中断，您的角色可能会保留在游戏中的一段时间，具体时间取决于游戏服务器和您的网...   LLM  chinese\n",
      "57169  \"企业法律顾问考试\"是中国国家法律职业资格考试(CNOL)的一种考试。CNOL是由中国司法部...   LLM  chinese\n",
      "62507  ：\\n\\n1、抑郁和焦虑：穷养的孩子可能会更容易受到挫折，他们可能会更容易感到沮丧，可能会更...   LLM  chinese\n",
      "61477  .\\n\\n1、首先，打开“开始”菜单，在搜索框中输入“金山软件基础服务”，找到对应的程序，右...   LLM  chinese\n",
      "58217  去日本可以买到很多好东西，以下是一些推荐：\\n1. 电子产品：日本有非常优秀的电子产品，像是...   LLM  chinese\n"
     ]
    }
   ],
   "source": [
    "print(ch_set.shape)\n",
    "print(ch_set.head())"
   ]
  },
  {
   "cell_type": "code",
   "execution_count": 37,
   "id": "e35ffa49",
   "metadata": {
    "collapsed": false,
    "jupyter": {
     "outputs_hidden": false
    }
   },
   "outputs": [
    {
     "name": "stderr",
     "output_type": "stream",
     "text": [
      "Backtranslating from zh to en: 100%|██████████| 20/20 [00:06<00:00,  2.96it/s]\n"
     ]
    }
   ],
   "source": [
    "backtranslate_and_save(ch_set, source_language='zh', target_language='en', output_file='chinese_addon.jsonl')"
   ]
  },
  {
   "cell_type": "code",
   "execution_count": 15,
   "id": "044efec3",
   "metadata": {
    "collapsed": false,
    "jupyter": {
     "outputs_hidden": false
    }
   },
   "outputs": [
    {
     "name": "stdout",
     "output_type": "stream",
     "text": [
      "(2099, 3)\n",
      "                                                    text label      source\n",
      "52934  Jakarta, CNN Indonesia -- Pebalap MotoGP legen...   LLM  indonesian\n",
      "52935  Jakarta, CNN Indonesia -- Ahmad Dhani, persone...   LLM  indonesian\n",
      "52936  Jakarta, CNN Indonesia -- Mantan Kepala Badan ...   LLM  indonesian\n",
      "52937  Jakarta, CNN Indonesia -- Prosesor Snapdragon ...   LLM  indonesian\n",
      "52938  Jakarta, CNN Indonesia – Dewasa ini semakin ba...   LLM  indonesian\n",
      "(2339, 3)\n",
      "                                                    text  label      source\n",
      "54934  Jakarta, CNN Indonesia -- Setelah bergabung de...  human  indonesian\n",
      "54935  Jakarta, CNN Indonesia -- Musisi Ahmad Dhani m...  human  indonesian\n",
      "54937  Jakarta, CNN Indonesia -- Perusahaan semikondu...  human  indonesian\n",
      "54941  Jakarta, CNN Indonesia -- Menteri Pendayagunaa...  human  indonesian\n",
      "54942  Jakarta, CNN Indonesia -- Liverpool unggul 1-0...  human  indonesian\n"
     ]
    }
   ],
   "source": [
    "m_chars = 2550\n",
    "\n",
    "filtered_multi_train_df_llm = filter_dataframe(multi_train_df, m_chars, [\"indonesian\"], ['LLM'])\n",
    "filtered_multi_train_df_hum = filter_dataframe(multi_train_df, m_chars, [\"indonesian\"], ['human'])\n",
    "\n",
    "print(filtered_multi_train_df_llm.shape)\n",
    "print(filtered_multi_train_df_llm.head())\n",
    "\n",
    "print(filtered_multi_train_df_hum.shape)\n",
    "print(filtered_multi_train_df_hum.head())"
   ]
  },
  {
   "cell_type": "code",
   "execution_count": 16,
   "id": "eff819c9",
   "metadata": {
    "collapsed": false,
    "jupyter": {
     "outputs_hidden": false
    }
   },
   "outputs": [],
   "source": [
    "indo_llm = filtered_multi_train_df_llm.sample(n=2000)\n",
    "indo_hum = filtered_multi_train_df_hum.sample(n=2000)"
   ]
  },
  {
   "cell_type": "code",
   "execution_count": 17,
   "id": "e55655ec",
   "metadata": {
    "collapsed": false,
    "jupyter": {
     "outputs_hidden": false
    }
   },
   "outputs": [],
   "source": [
    "indo_set = pd.concat([indo_llm, indo_hum])"
   ]
  },
  {
   "cell_type": "code",
   "execution_count": 18,
   "id": "7114906e",
   "metadata": {
    "collapsed": false,
    "jupyter": {
     "outputs_hidden": false
    }
   },
   "outputs": [
    {
     "name": "stdout",
     "output_type": "stream",
     "text": [
      "(4000, 3)\n",
      "                                                    text  label      source\n",
      "56010  Semua sudah dilakukan, tinggal pasrah dan berd...  human  indonesian\n",
      "55125  Washington - Sejak diangkat menjadi Presiden A...  human  indonesian\n",
      "56283  JAKARTA - Kementerian Keuangan (Kemenkeu) menc...  human  indonesian\n",
      "93028  Jakarta -\\n Ketum Gerindra Prabowo Subianto me...  human  indonesian\n",
      "55090  REPUBLIKA.CO.ID, BANDUNG -- Laga Persib Bandun...  human  indonesian\n"
     ]
    }
   ],
   "source": [
    "print(indo_set.shape)\n",
    "print(indo_set.tail())"
   ]
  },
  {
   "cell_type": "code",
   "execution_count": null,
   "id": "f56f009c",
   "metadata": {
    "collapsed": false,
    "jupyter": {
     "outputs_hidden": false
    }
   },
   "outputs": [],
   "source": [
    "backtranslate_and_save(indo_set, source_language='id', target_language='en', output_file='indonesian_addon.jsonl')"
   ]
  },
  {
   "cell_type": "code",
   "execution_count": 15,
   "id": "5ff7421e",
   "metadata": {
    "collapsed": false,
    "jupyter": {
     "outputs_hidden": false
    }
   },
   "outputs": [
    {
     "name": "stdout",
     "output_type": "stream",
     "text": [
      "(2003, 3)\n",
      "                                                    text label source\n",
      "49029  این ایف سی وفاق نے پاکستان کے چار صوبوں کو 18 ...   LLM   urdu\n",
      "49032  لاہور: غریب کی مشکل سان ہوگئی، جب وہ سبزی منڈی...   LLM   urdu\n",
      "49033  کراچی: پاکستان اسٹاک ایکسچینج میں زبردست تیزی ...   LLM   urdu\n",
      "49034  پاکستان میں زرعی کاروبار کی بہتری کے لیے بڑی خ...   LLM   urdu\n",
      "49035  ہوگئی\\n\\nپیمرا نے 32 سیٹلائٹ ٹی وی چینلز کے لا...   LLM   urdu\n",
      "(2249, 3)\n",
      "                                                    text  label source\n",
      "50934  رواں سال صوبوں کو130ارب یا79فیصدزیادہ رقم جاری...  human   urdu\n",
      "50935  وفاقی وزیر خزانہ ریونیو اقتصادی امور شماریات ن...  human   urdu\n",
      "50937  کراچی 92 نیوز غریب کی مشکل ہوئی سان سبزی منڈی ...  human   urdu\n",
      "50938  پاکستان اسٹاک ایکسچینج میں کاروباری ہفتے کے پا...  human   urdu\n",
      "50939  اسلام اباد 17 جنوری 2019 وزیراعظم عمران خان سے...  human   urdu\n"
     ]
    }
   ],
   "source": [
    "m_chars = 1600\n",
    "\n",
    "filtered_multi_train_df_llm = filter_dataframe(multi_train_df, m_chars, [\"urdu\"], ['LLM'])\n",
    "filtered_multi_train_df_hum = filter_dataframe(multi_train_df, m_chars, [\"urdu\"], ['human'])\n",
    "\n",
    "print(filtered_multi_train_df_llm.shape)\n",
    "print(filtered_multi_train_df_llm.head())\n",
    "\n",
    "print(filtered_multi_train_df_hum.shape)\n",
    "print(filtered_multi_train_df_hum.head())"
   ]
  },
  {
   "cell_type": "code",
   "execution_count": 16,
   "id": "18124a07",
   "metadata": {
    "collapsed": false,
    "jupyter": {
     "outputs_hidden": false
    }
   },
   "outputs": [],
   "source": [
    "urdu_llm = filtered_multi_train_df_llm.sample(n=2000)\n",
    "urdu_hum = filtered_multi_train_df_hum.sample(n=2000)"
   ]
  },
  {
   "cell_type": "code",
   "execution_count": 17,
   "id": "01b10a99",
   "metadata": {
    "collapsed": false,
    "jupyter": {
     "outputs_hidden": false
    }
   },
   "outputs": [],
   "source": [
    "urdu_set = pd.concat([urdu_llm, urdu_hum])"
   ]
  },
  {
   "cell_type": "code",
   "execution_count": 18,
   "id": "b1955b69",
   "metadata": {
    "collapsed": false,
    "jupyter": {
     "outputs_hidden": false
    }
   },
   "outputs": [
    {
     "name": "stdout",
     "output_type": "stream",
     "text": [
      "(4000, 3)\n",
      "                                                    text label source\n",
      "50282  واشنگٹن: ٹوئٹر نے امریکی صدر ڈونلڈ ٹرمپ کے اکا...   LLM   urdu\n",
      "91844  فواد خان پریانکا چوپڑا کے مدمقابل: کون بہتر ہے...   LLM   urdu\n",
      "49542  شفقت امانت علی نے بھارت میں پاکستانی فنکاروں پ...   LLM   urdu\n",
      "49439  ایک نئی فلم کا پہلا ٹریلر منظر عام پر آگیا ہے ...   LLM   urdu\n",
      "50401  اسپاٹ فکسنگ کیس پر نظرثانی کا فیصلہ\\n\\nسپریم ک...   LLM   urdu\n"
     ]
    }
   ],
   "source": [
    "print(urdu_set.shape)\n",
    "print(urdu_set.head())"
   ]
  },
  {
   "cell_type": "code",
   "execution_count": 19,
   "id": "7cedb0ab",
   "metadata": {
    "collapsed": false,
    "jupyter": {
     "outputs_hidden": false
    }
   },
   "outputs": [
    {
     "name": "stderr",
     "output_type": "stream",
     "text": [
      "Backtranslating from ur to en: 100%|██████████| 4000/4000 [20:13<00:00,  3.30it/s]\n"
     ]
    }
   ],
   "source": [
    "backtranslate_and_save(urdu_set, source_language='ur', target_language='en', output_file='urdu_addon.jsonl')"
   ]
  },
  {
   "cell_type": "code",
   "execution_count": null,
   "id": "9e824ada",
   "metadata": {
    "collapsed": false,
    "jupyter": {
     "outputs_hidden": false
    }
   },
   "outputs": [],
   "source": []
  }
 ],
 "metadata": {
  "kernelspec": {
   "display_name": "Python 3 (ipykernel)",
   "language": "python",
   "name": "python3"
  },
  "language_info": {
   "codemirror_mode": {
    "name": "ipython",
    "version": 3
   },
   "file_extension": ".py",
   "mimetype": "text/x-python",
   "name": "python",
   "nbconvert_exporter": "python",
   "pygments_lexer": "ipython3",
   "version": "3.10.9"
  }
 },
 "nbformat": 4,
 "nbformat_minor": 5
}
