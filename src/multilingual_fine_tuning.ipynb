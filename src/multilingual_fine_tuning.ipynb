{
 "cells": [
  {
   "cell_type": "code",
   "execution_count": null,
   "metadata": {},
   "outputs": [],
   "source": [
    "import warnings\n",
    "import helpers\n",
    "import pandas as pd\n",
    "import os\n",
    "from transformers import AutoTokenizer, AutoConfig, DataCollatorWithPadding, Trainer, TrainingArguments, AutoModelForSequenceClassification\n",
    "warnings.filterwarnings(\"ignore\")"
   ]
  },
  {
   "cell_type": "code",
   "execution_count": null,
   "metadata": {},
   "outputs": [],
   "source": [
    "device = helpers.get_device()\n",
    "model_ckpt = \"distilbert-base-multilingual-cased\"\n",
    "\n",
    "train_path = \"data/SemEval2024-Task8/SubtaskA/subtaskA_train_multilingual.jsonl\"\n",
    "val_path = \"data/SemEval2024-Task8/SubtaskA/subtaskA_dev_multilingual.jsonl\"\n",
    "\n",
    "addon_directory = \"./backtranslation_data_multi/\"\n",
    "addon_paths = []\n",
    "\n",
    "for filename in os.listdir(addon_directory):\n",
    "    if filename.endswith(\".jsonl\"):\n",
    "        addon_paths.append(os.path.join(addon_directory, filename))\n",
    "\n",
    "tokenizer = AutoTokenizer.from_pretrained(model_ckpt)\n",
    "config = AutoConfig.from_pretrained(model_ckpt)\n",
    "model = AutoModelForSequenceClassification.from_pretrained(model_ckpt).to(device)"
   ]
  },
  {
   "cell_type": "code",
   "execution_count": null,
   "metadata": {},
   "outputs": [],
   "source": [
    "train_df, val_df = helpers.get_pandas_dfs(train_path, val_path)\n",
    "addon_dataframes = []\n",
    "\n",
    "for addon_path in addon_paths:\n",
    "    addon_df = helpers.get_pandas_atomic_dfs(addon_path)\n",
    "    addon_dataframes.append(addon_df)\n",
    "\n",
    "train_df = pd.concat([train_df] + addon_dataframes, axis=0, ignore_index=True)\n",
    "print(train_df.shape)"
   ]
  },
  {
   "cell_type": "code",
   "execution_count": null,
   "metadata": {},
   "outputs": [],
   "source": [
    "train_df[\"text\"] = train_df[\"text\"].apply(lambda x: helpers.chunk_text(x, tokenizer))\n",
    "train_df = train_df.explode(\"text\").reset_index(drop=True)"
   ]
  },
  {
   "cell_type": "code",
   "execution_count": null,
   "metadata": {},
   "outputs": [],
   "source": [
    "train_ds, val_ds = helpers.prepare_datasets(train_df, val_df)"
   ]
  },
  {
   "cell_type": "code",
   "execution_count": null,
   "metadata": {},
   "outputs": [],
   "source": [
    "data_collator = DataCollatorWithPadding(tokenizer, return_tensors=\"pt\")\n",
    "\n",
    "def tokenize(batch):\n",
    "    return tokenizer(batch[\"text\"], padding=True, truncation=True, return_tensors=\"pt\")\n",
    "\n",
    "train_ds_encoded = train_ds.map(tokenize, batched=True)\n",
    "val_ds_encoded = val_ds.map(tokenize, batched=True)\n",
    "\n",
    "training_args = TrainingArguments(\n",
    "    \"SemEval-Trainer\",\n",
    "    num_train_epochs=15,\n",
    "    save_strategy=\"epoch\",\n",
    "    save_total_limit=20,\n",
    "    evaluation_strategy=\"epoch\",\n",
    "    metric_for_best_model=\"eval_loss\",\n",
    ")\n",
    "\n",
    "\n",
    "trainer = Trainer(\n",
    "    model,\n",
    "    training_args,\n",
    "    train_dataset=train_ds_encoded,\n",
    "    eval_dataset=val_ds_encoded,\n",
    "    data_collator=data_collator,\n",
    "    tokenizer=tokenizer,\n",
    "    compute_metrics=helpers.compute_metrics\n",
    ")\n",
    "\n",
    "trainer.train()\n",
    "trainer.save_model(f\"fine_tuned_distilbert_for_multilingual.pt\")"
   ]
  }
 ],
 "metadata": {
  "kernelspec": {
   "display_name": "Python 3 (ipykernel)",
   "language": "python",
   "name": "python3"
  },
  "language_info": {
   "codemirror_mode": {
    "name": "ipython",
    "version": 3
   },
   "file_extension": ".py",
   "mimetype": "text/x-python",
   "name": "python",
   "nbconvert_exporter": "python",
   "pygments_lexer": "ipython3",
   "version": "3.11.7"
  }
 },
 "nbformat": 4,
 "nbformat_minor": 4
}
